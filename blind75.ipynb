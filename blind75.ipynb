{
 "cells": [
  {
   "cell_type": "markdown",
   "id": "6e1b1149-2d18-41e2-88c1-83033ec09742",
   "metadata": {},
   "source": [
    "#### Leetcode"
   ]
  },
  {
   "cell_type": "markdown",
   "id": "7a723ed9-58fe-4dfd-8600-b0293a1bda37",
   "metadata": {
    "tags": []
   },
   "source": [
    "#### 3Sum"
   ]
  },
  {
   "cell_type": "code",
   "execution_count": 38,
   "id": "94c279dc-d8df-4a48-a866-2e2ea0e1ca12",
   "metadata": {
    "tags": []
   },
   "outputs": [],
   "source": [
    "\"\"\"\n",
    "nums = [-1,0,1,2,-1,-4]\n",
    "output = [-1,-1,2], [-1, 0, 1]\n",
    "\"\"\"\n",
    "def threesum(nums):\n",
    "    output = []\n",
    "    nums.sort()\n",
    "    for i in range(len(nums)):\n",
    "        num = nums[i] # get the number\n",
    "        target = -num # want to get negative of that for twosum\n",
    "        # can use 2 pointer method for i+1 index till end of array\n",
    "        print(target)\n",
    "        left, right = i+1, len(nums)-1\n",
    "        while left < right:\n",
    "            if nums[left]+nums[right] == target:\n",
    "                output.append([num, nums[left], nums[right]])\n",
    "                left += 1\n",
    "                # this is to avoid duplicates in case you are checking same one\n",
    "                # (in the input e.g. -1 would be duplicated so skip it after the sort)\n",
    "                while(nums[left]==nums[left-1]):\n",
    "                    left+=1\n",
    "            elif nums[left]+nums[right] > target:\n",
    "                right -=1\n",
    "            elif nums[left]+nums[right] < target:\n",
    "                left += 1\n",
    "    return output\n",
    "    # max explanation for why we can sort and do 2-pointer: the reason we sort in this problem and not in two sum is because the best efficiency in two sum is O(n)  with space complexity O(n) while two pointer is O(n log n) due to the sort with O(1) space\n",
    "    # However when we do three sum we are forced to add an N to the complexity of the search, so sorting is no additional complexity penalty while saving on the memory complexity"
   ]
  },
  {
   "cell_type": "markdown",
   "id": "8e8e1b3b-bb31-469d-99ee-6b60ac650ed2",
   "metadata": {
    "tags": []
   },
   "source": [
    "#### Number of 1 bits"
   ]
  },
  {
   "cell_type": "code",
   "execution_count": 46,
   "id": "70a3f5d1-55ad-4e45-b9bd-c3efd40b9c4d",
   "metadata": {
    "tags": []
   },
   "outputs": [],
   "source": [
    "\"\"\"\n",
    "n = 00000000000000000000000000001011\n",
    "Output: 3\n",
    "constraints: The input must be a binary string of length 32\n",
    "\"\"\"\n",
    "def numberOfOneBits(num):\n",
    "    mask = 1 #00000000000000000000000000000001\n",
    "    count = 0\n",
    "    for i in range(32):\n",
    "        if mask & num != 0:\n",
    "            count += 1\n",
    "        mask = mask << 1\n",
    "    print(count)\n",
    "    return count\n",
    "        "
   ]
  },
  {
   "cell_type": "code",
   "execution_count": 47,
   "id": "95f09b9d-3142-4d43-9c19-5a168fa51c4d",
   "metadata": {
    "tags": []
   },
   "outputs": [
    {
     "name": "stdout",
     "output_type": "stream",
     "text": [
      "2\n"
     ]
    },
    {
     "data": {
      "text/plain": [
       "2"
      ]
     },
     "execution_count": 47,
     "metadata": {},
     "output_type": "execute_result"
    }
   ],
   "source": [
    "def sumOfTwoBits(a, b):\n",
    "   # idea is to xor to get value and then && to\n",
    "    # get if carry is necessary and then shit << 1 if there is carry\n",
    "\n",
    "    while(b != 0): # b is carry ?\n",
    "        tmp = (a & b) << 1 # b is result after u & and shift so if it is not 0 all the way thru still needs to do xor operation\n",
    "        a = a ^ b # a = a xor b \n",
    "        b = tmp\n",
    "    \n",
    "    return a\n",
    "sumOfTwoBits(3,6)"
   ]
  },
  {
   "cell_type": "code",
   "execution_count": null,
   "id": "7235292b-5fd1-4f63-b706-40ce1a795b4d",
   "metadata": {},
   "outputs": [],
   "source": []
  },
  {
   "cell_type": "code",
   "execution_count": null,
   "id": "5cc723c7-46f8-48c3-aa51-8dfc4fe03748",
   "metadata": {},
   "outputs": [],
   "source": []
  },
  {
   "cell_type": "code",
   "execution_count": null,
   "id": "c8f75511-dd0f-412e-b85e-2cc6b4f1d895",
   "metadata": {},
   "outputs": [],
   "source": []
  },
  {
   "cell_type": "code",
   "execution_count": null,
   "id": "40aa6f07-3e7b-4e23-b7f6-e8ac32364c09",
   "metadata": {},
   "outputs": [],
   "source": []
  },
  {
   "cell_type": "code",
   "execution_count": null,
   "id": "db519242-79ec-4dd0-a848-471bc42c557a",
   "metadata": {},
   "outputs": [],
   "source": []
  },
  {
   "cell_type": "code",
   "execution_count": null,
   "id": "a3a5d0f7-0523-4738-9a24-599d3e925132",
   "metadata": {},
   "outputs": [],
   "source": []
  },
  {
   "cell_type": "code",
   "execution_count": null,
   "id": "e8010b4e-0cde-4abe-a614-c39685612925",
   "metadata": {},
   "outputs": [],
   "source": []
  },
  {
   "cell_type": "code",
   "execution_count": null,
   "id": "48a85211-b574-4c61-b54a-4aacd3b80e1b",
   "metadata": {},
   "outputs": [],
   "source": []
  },
  {
   "cell_type": "code",
   "execution_count": 62,
   "id": "2bc0615b-075b-41d6-8771-b537f14d793a",
   "metadata": {
    "tags": []
   },
   "outputs": [
    {
     "name": "stdout",
     "output_type": "stream",
     "text": [
      "-3\n"
     ]
    },
    {
     "data": {
      "text/plain": [
       "-3"
      ]
     },
     "execution_count": 62,
     "metadata": {},
     "output_type": "execute_result"
    }
   ],
   "source": [
    "def sumOfTwo(a, b):\n",
    "    while(b != 0): # while carry isn't 00000000 aka no more left to carry\n",
    "        a_temp, b_temp = a, b\n",
    "        # first get what value are when you add\n",
    "        add = a_temp ^ b_temp\n",
    "        # now figure out what carry by & and shifting over\n",
    "        carry = (a_temp & b_temp) << 1\n",
    "        # now need to repeat and xor carry to a so change\n",
    "        # a to add and b to carry\n",
    "        a = add\n",
    "        b = carry\n",
    "    print(a)\n",
    "    return a\n",
    "    \n",
    "# important concept: adding is just & << 1 and xor\n",
    "sumOfTwo(2,-5)"
   ]
  },
  {
   "cell_type": "code",
   "execution_count": null,
   "id": "623be8ff-c6a3-4142-bde9-20d9cac0f5be",
   "metadata": {},
   "outputs": [],
   "source": []
  }
 ],
 "metadata": {
  "kernelspec": {
   "display_name": "Python 3 (ipykernel)",
   "language": "python",
   "name": "python3"
  },
  "language_info": {
   "codemirror_mode": {
    "name": "ipython",
    "version": 3
   },
   "file_extension": ".py",
   "mimetype": "text/x-python",
   "name": "python",
   "nbconvert_exporter": "python",
   "pygments_lexer": "ipython3",
   "version": "3.11.4"
  }
 },
 "nbformat": 4,
 "nbformat_minor": 5
}
