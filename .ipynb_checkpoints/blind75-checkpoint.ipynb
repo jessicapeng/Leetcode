{
 "cells": [
  {
   "cell_type": "markdown",
   "id": "6e1b1149-2d18-41e2-88c1-83033ec09742",
   "metadata": {},
   "source": [
    "#### Leetcode"
   ]
  },
  {
   "cell_type": "code",
   "execution_count": 30,
   "id": "7eca2762-68a9-4ba1-96c7-5f4d0b80747b",
   "metadata": {
    "tags": []
   },
   "outputs": [],
   "source": [
    "#### 3Sum"
   ]
  },
  {
   "cell_type": "code",
   "execution_count": 36,
   "id": "3fd7c5cc-ff58-49b1-ab0a-0a9e290474d3",
   "metadata": {
    "tags": []
   },
   "outputs": [],
   "source": [
    "\"\"\"\n",
    "nums = [-1,0,1,2,-1,-4]\n",
    "output = [-1,-1,2], [-1, 0, 1]\n",
    "\"\"\"\n",
    "def threesum(nums):\n",
    "    output = []\n",
    "   # checked = set() # this works for checking to make sure not same; but if sorted can just shift pointer if it's same as one before\n",
    "    # idea is to iterate through list and run twoSum on remainder of them \n",
    "    # question -- do I sort beforehand? yes benefits of it is can use 2 \n",
    "    # pointer method -- why use 2 pointer over dictionary?\n",
    "    nums.sort()\n",
    "    for i in range(len(nums)):\n",
    "        num = nums[i] # get the number\n",
    "        target = -num # want to get negative of that for twosum\n",
    "        # can use 2 pointer method for i+1 index till end of array\n",
    "        print(target)\n",
    "        left, right = i+1, len(nums)-1\n",
    "        while left < right:\n",
    "            if nums[left]+nums[right] == target:\n",
    "                output.append([num, nums[left], nums[right]])\n",
    "                left += 1\n",
    "                # this is to avoid duplicates in case you are checking same one\n",
    "                # (in the input e.g. -1 would be duplicated so skip it after the sort)\n",
    "                while(nums[left]==nums[left-1]):\n",
    "                    left+=1\n",
    "            elif nums[left]+nums[right] > target:\n",
    "                right -=1\n",
    "            elif nums[left]+nums[right] < target:\n",
    "                left += 1\n",
    "    print(output)"
   ]
  },
  {
   "cell_type": "code",
   "execution_count": 37,
   "id": "94c279dc-d8df-4a48-a866-2e2ea0e1ca12",
   "metadata": {
    "tags": []
   },
   "outputs": [
    {
     "name": "stdout",
     "output_type": "stream",
     "text": [
      "4\n",
      "1\n",
      "0\n",
      "-1\n",
      "-2\n",
      "[[-1, -1, 2], [-1, 0, 1]]\n"
     ]
    }
   ],
   "source": [
    "\"\"\"\n",
    "nums = [-1,0,1,2,-1,-4]\n",
    "output = [-1,-1,2], [-1, 0, 1]\n",
    "\"\"\"\n",
    "def threesum(nums):\n",
    "    output = []\n",
    "    nums.sort()\n",
    "    for i in range(len(nums)):\n",
    "        num = nums[i] # get the number\n",
    "        target = -num # want to get negative of that for twosum\n",
    "        # can use 2 pointer method for i+1 index till end of array\n",
    "        print(target)\n",
    "        left, right = i+1, len(nums)-1\n",
    "        while left < right:\n",
    "            if nums[left]+nums[right] == target:\n",
    "                output.append([num, nums[left], nums[right]])\n",
    "                left += 1\n",
    "                # this is to avoid duplicates in case you are checking same one\n",
    "                # (in the input e.g. -1 would be duplicated so skip it after the sort)\n",
    "                while(nums[left]==nums[left-1]):\n",
    "                    left+=1\n",
    "            elif nums[left]+nums[right] > target:\n",
    "                right -=1\n",
    "            elif nums[left]+nums[right] < target:\n",
    "                left += 1\n",
    "    return output\n",
    "    # max explanation for why we can sort and do 2-pointer: the reason we sort in this problem and not in two sum is because the best efficiency in two sum is O(n)  with space complexity O(n) while two pointer is O(n log n) due to the sort with O(1) space\n",
    "    # However when we do three sum we are forced to add an N to the complexity of the search, so sorting is no additional complexity penalty while saving on the memory complexity"
   ]
  },
  {
   "cell_type": "code",
   "execution_count": null,
   "id": "b9051d59-dbc9-490a-b41c-0b39d7929aef",
   "metadata": {},
   "outputs": [],
   "source": []
  }
 ],
 "metadata": {
  "kernelspec": {
   "display_name": "Python 3 (ipykernel)",
   "language": "python",
   "name": "python3"
  },
  "language_info": {
   "codemirror_mode": {
    "name": "ipython",
    "version": 3
   },
   "file_extension": ".py",
   "mimetype": "text/x-python",
   "name": "python",
   "nbconvert_exporter": "python",
   "pygments_lexer": "ipython3",
   "version": "3.11.4"
  }
 },
 "nbformat": 4,
 "nbformat_minor": 5
}
